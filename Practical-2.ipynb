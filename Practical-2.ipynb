{
 "cells": [
  {
   "cell_type": "markdown",
   "id": "802a27fc-5deb-4f3a-8739-908f9c741957",
   "metadata": {},
   "source": [
    "## Practical No.2: Write a NumPy program to implement following operation "
   ]
  },
  {
   "cell_type": "code",
   "execution_count": 2,
   "id": "b990f488-2f19-4bc0-a80e-b4ba22b4dd73",
   "metadata": {},
   "outputs": [],
   "source": [
    "import numpy as np"
   ]
  },
  {
   "cell_type": "markdown",
   "id": "5646608f-4a08-4d95-8c47-dbc722929d3c",
   "metadata": {},
   "source": [
    "* to convert a list of numeric values into a one-dimensional NumPy array "
   ]
  },
  {
   "cell_type": "code",
   "execution_count": 22,
   "id": "d74eaf16-2af5-4a40-88c5-c4d9aad7e961",
   "metadata": {},
   "outputs": [
    {
     "name": "stdout",
     "output_type": "stream",
     "text": [
      "Original list :  [1, 2, 3, 4, 5]\n",
      "Converted list from one-dimensional array :  [1 2 3 4 5]\n"
     ]
    }
   ],
   "source": [
    "numericList = [1,2,3,4,5]\n",
    "listToArray = np.array(l)\n",
    "print(\"Original list : \",numericList)\n",
    "print(\"Converted list from one-dimensional array : \",listToArray)"
   ]
  },
  {
   "cell_type": "markdown",
   "id": "46d6cc39-b529-459e-9f96-3e25854b81f2",
   "metadata": {},
   "source": [
    "* to create a 3x3 matrix with values ranging from 2 to 10 "
   ]
  },
  {
   "cell_type": "code",
   "execution_count": 4,
   "id": "12f5e2aa-52e6-47f2-bf20-1285d4d9798d",
   "metadata": {},
   "outputs": [
    {
     "name": "stdout",
     "output_type": "stream",
     "text": [
      "generated 3*3 matrix is : \n",
      " [[ 2  3  4]\n",
      " [ 5  6  7]\n",
      " [ 8  9 10]]\n"
     ]
    }
   ],
   "source": [
    "generateNums = np.arange(2, 11)\n",
    "# print(generateNums)\n",
    "matrixedArray= generateNums.reshape(3,3)\n",
    "print(\"generated 3*3 matrix is : \\n\", matrixedArray)"
   ]
  },
  {
   "cell_type": "markdown",
   "id": "1169442a-845d-4d50-8d62-6720063259a4",
   "metadata": {},
   "source": [
    "* to append values at the end of an array "
   ]
  },
  {
   "cell_type": "code",
   "execution_count": 35,
   "id": "9f319945-0b4e-4222-bd01-073e024c2880",
   "metadata": {
    "scrolled": true
   },
   "outputs": [
    {
     "name": "stdout",
     "output_type": "stream",
     "text": [
      "Array after appending 12 and 13 :  [ 2  3  4  5  6  7  8  9 10 12 13]\n"
     ]
    }
   ],
   "source": [
    "appendArray=np.append(generateNums,[12,13])\n",
    "print(\"Array after appending 12 and 13 : \",appendArray)"
   ]
  },
  {
   "cell_type": "markdown",
   "id": "1b773972-93f5-4434-a120-62c51e48bc23",
   "metadata": {},
   "source": [
    "* to create another shape from an array without changing its data (3 * 2 to 2 * 3)"
   ]
  },
  {
   "cell_type": "code",
   "execution_count": 66,
   "id": "d67ac2bb-2ecd-4320-9dc9-c7f2b9979c41",
   "metadata": {
    "scrolled": true
   },
   "outputs": [
    {
     "name": "stdout",
     "output_type": "stream",
     "text": [
      "Array with shape (3, 2) :\n",
      " [[0 1]\n",
      " [2 3]\n",
      " [4 5]] \n",
      "\n",
      "Array with shape (2, 3) :\n",
      " [[0 1 2]\n",
      " [3 4 5]]\n"
     ]
    }
   ],
   "source": [
    "generateArray = np.arange(0,6)\n",
    "Array3_2 = generateArray.reshape(3,2)\n",
    "print(\"Array with shape\",Array3_2.shape,\":\\n\",Array3_2,\"\\n\")\n",
    "Array2_3 = Array3_2.reshape(2,3)\n",
    "print(\"Array with shape\",Array2_3.shape,\":\\n\",Array2_3)"
   ]
  }
 ],
 "metadata": {
  "kernelspec": {
   "display_name": "Python [conda env:base] *",
   "language": "python",
   "name": "conda-base-py"
  },
  "language_info": {
   "codemirror_mode": {
    "name": "ipython",
    "version": 3
   },
   "file_extension": ".py",
   "mimetype": "text/x-python",
   "name": "python",
   "nbconvert_exporter": "python",
   "pygments_lexer": "ipython3",
   "version": "3.13.5"
  }
 },
 "nbformat": 4,
 "nbformat_minor": 5
}

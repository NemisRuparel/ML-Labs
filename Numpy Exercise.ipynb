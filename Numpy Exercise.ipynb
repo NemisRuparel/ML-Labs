{
 "cells": [
  {
   "cell_type": "markdown",
   "id": "e222af7a-ac9e-42db-944a-42608f531475",
   "metadata": {},
   "source": [
    "# Section 1: Array Creation & Properties"
   ]
  },
  {
   "cell_type": "markdown",
   "id": "5e6e8857-cf11-4d18-9586-dbcaf0b626f4",
   "metadata": {},
   "source": [
    "## 1. Create Arrays "
   ]
  },
  {
   "cell_type": "code",
   "execution_count": 2,
   "id": "b9256662-eebd-4710-a94d-9b3a94091859",
   "metadata": {},
   "outputs": [],
   "source": [
    "import numpy as np"
   ]
  },
  {
   "cell_type": "markdown",
   "id": "d2d74e04-778a-4306-8f5d-d1f205285966",
   "metadata": {},
   "source": [
    " * 1.1 Create a 1D array of all even numbers between 10 and 30. "
   ]
  },
  {
   "cell_type": "code",
   "execution_count": 13,
   "id": "e7a20fb6-d37b-4543-8fc0-eb1b82bd2faa",
   "metadata": {},
   "outputs": [
    {
     "name": "stdout",
     "output_type": "stream",
     "text": [
      "Even numbers from 10 to 30 is :  [10 12 14 16 18 20 22 24 26 28 30]\n"
     ]
    }
   ],
   "source": [
    "evenArray = np.arange(10,31,2)\n",
    "print(\"Even numbers from 10 to 30 is : \",evenArray)"
   ]
  },
  {
   "cell_type": "markdown",
   "id": "d7f8e750-fb54-4a7a-88ff-9ee72ca3170e",
   "metadata": {},
   "source": [
    "* Create a 3×3 matrix with values from 0 to 8. "
   ]
  },
  {
   "cell_type": "code",
   "execution_count": 17,
   "id": "bb75e74a-6091-4f60-b8b9-f6adabdc460b",
   "metadata": {},
   "outputs": [
    {
     "name": "stdout",
     "output_type": "stream",
     "text": [
      "Matrix with 3 x 3 dimenstion is : \n",
      " [[3 7 4]\n",
      " [3 3 0]\n",
      " [5 2 7]]\n"
     ]
    }
   ],
   "source": [
    "matrix3_3 = np.random.randint(0, 9,(3, 3))\n",
    "print(\"Matrix with 3 x 3 dimenstion is : \\n\",matrix3_3)"
   ]
  },
  {
   "cell_type": "markdown",
   "id": "44e66240-3e63-4e5a-99a8-b16cf9ce927f",
   "metadata": {},
   "source": [
    "* Create a 4×4 identity matrix. "
   ]
  },
  {
   "cell_type": "code",
   "execution_count": 24,
   "id": "7acfaaae-5c74-494f-a644-e6ecb1e455da",
   "metadata": {},
   "outputs": [
    {
     "name": "stdout",
     "output_type": "stream",
     "text": [
      "Identity matrix with 4*4 dimension is : \n",
      " [[1. 0. 0. 0.]\n",
      " [0. 1. 0. 0.]\n",
      " [0. 0. 1. 0.]\n",
      " [0. 0. 0. 1.]]\n"
     ]
    }
   ],
   "source": [
    "identityMatrix = np.eye(4)\n",
    "print(\"Identity matrix with 4*4 dimension is : \\n\",identityMatrix)"
   ]
  },
  {
   "cell_type": "markdown",
   "id": "f9982008-3aeb-48ba-981a-85d2a715cb1a",
   "metadata": {},
   "source": [
    "# 2. Check Array Properties\n",
    "  "
   ]
  },
  {
   "cell_type": "markdown",
   "id": "1b81634f-18fa-4724-bd44-a4a76a90a220",
   "metadata": {},
   "source": [
    "*  Print shape, size, data type, and number of dimensions of the 3×3 matrix. "
   ]
  },
  {
   "cell_type": "code",
   "execution_count": 33,
   "id": "4b95baac-8e2c-4103-940c-5829245f9064",
   "metadata": {},
   "outputs": [
    {
     "name": "stdout",
     "output_type": "stream",
     "text": [
      "Shape of the array is :  (3, 3)\n",
      "Size of the array is :  9\n",
      "Data type of elements is :  int64\n",
      "Dimensions of array is :  2\n"
     ]
    }
   ],
   "source": [
    "npArray = np.array([[1,2,3],[4,5,6],[7,8,9]])\n",
    "print(\"Shape of the array is : \",npArray.shape)\n",
    "print(\"Size of the array is : \",npArray.size)\n",
    "print(\"Data type of elements is : \",npArray.dtype)\n",
    "print(\"Dimensions of array is : \",npArray.ndim)"
   ]
  },
  {
   "cell_type": "markdown",
   "id": "ca3ffb55-d042-4cd6-8c42-706dcd096330",
   "metadata": {},
   "source": [
    "# Section 2: Indexing, Slicing, and Reshaping "
   ]
  },
  {
   "cell_type": "markdown",
   "id": "ba6e4297-8c11-41cd-b587-e89a44c7f161",
   "metadata": {},
   "source": [
    "## 3. Array Indexing and Slicing"
   ]
  },
  {
   "cell_type": "markdown",
   "id": "d910cca7-2ba4-4784-a152-0f2193a95ed6",
   "metadata": {},
   "source": [
    "* Extract the 2nd column of the 3×3 matrix.     "
   ]
  },
  {
   "cell_type": "code",
   "execution_count": 66,
   "id": "a9924cf3-8bc7-477a-afa2-c5bdd2fc645f",
   "metadata": {},
   "outputs": [
    {
     "name": "stdout",
     "output_type": "stream",
     "text": [
      "3*3 matrix : \n",
      " [[5 5 6]\n",
      " [7 5 4]\n",
      " [5 3 0]] \n",
      "\n",
      "2nd column of matrix : \n",
      " [[5]\n",
      " [5]\n",
      " [3]]\n"
     ]
    }
   ],
   "source": [
    "matrix3_3 = matrix3_3 = np.random.randint(0, 9,(3, 3)) \n",
    "matrix2ndColumn = matrix3_3[:3, 1:2]\n",
    "print(\"3*3 matrix : \\n\",matrix3_3 ,\"\\n\")\n",
    "print(\"2nd column of matrix : \\n\",matrix2ndColumn)"
   ]
  },
  {
   "cell_type": "markdown",
   "id": "23bd969f-510f-416a-a910-ebbb6d06c182",
   "metadata": {},
   "source": [
    "* Get the first 2 rows using slicing"
   ]
  },
  {
   "cell_type": "code",
   "execution_count": 74,
   "id": "2bf22925-b32e-4e4f-8004-6dac344f3c44",
   "metadata": {},
   "outputs": [
    {
     "name": "stdout",
     "output_type": "stream",
     "text": [
      "3*3 matrix : \n",
      " [[7 3 5]\n",
      " [0 8 0]\n",
      " [8 8 4]] \n",
      "\n",
      "First 2 rows : \n",
      " [[7 3 5]\n",
      " [0 8 0]]\n"
     ]
    }
   ],
   "source": [
    "matrix3_3 = matrix3_3 = np.random.randint(0, 9,(3, 3)) \n",
    "print(\"3*3 matrix : \\n\",matrix3_3,\"\\n\")\n",
    "print(\"First 2 rows : \\n\",matrix3_3[0:2])"
   ]
  },
  {
   "cell_type": "markdown",
   "id": "f2be8f5f-f306-4ca5-aca9-7f43d328937e",
   "metadata": {},
   "source": [
    "## 4. Reshape an Array "
   ]
  },
  {
   "cell_type": "markdown",
   "id": "dc1fc7bd-4df1-4539-9dae-377de2750e3e",
   "metadata": {},
   "source": [
    "*  Convert the 1D even number array (from Q1) into a 2D array with 2 rows. "
   ]
  },
  {
   "cell_type": "code",
   "execution_count": 99,
   "id": "8cb57fbe-93ed-4c41-80ef-31b0a4678813",
   "metadata": {},
   "outputs": [
    {
     "name": "stdout",
     "output_type": "stream",
     "text": [
      "Even array is :  [ 0  2  4  6  8 10] \n",
      "\n",
      "Even array converted in 2D array is : \n",
      " [[ 0  2  4]\n",
      " [ 6  8 10]]\n"
     ]
    }
   ],
   "source": [
    "evenArray = np.arange(0,11,2)\n",
    "print(\"Even array is : \",evenArray,\"\\n\")\n",
    "twoDimensionArray = evenArray.reshape(2,3)\n",
    "print(\"Even array converted in 2D array is : \\n\",twoDimensionArray)"
   ]
  },
  {
   "cell_type": "markdown",
   "id": "e7bb1bd5-ba18-427d-82d4-7b0b28aac942",
   "metadata": {},
   "source": [
    "# Section 3: Operations and Broadcasting "
   ]
  },
  {
   "cell_type": "markdown",
   "id": "a8c1b041-a1a7-494d-8743-6111e31abca5",
   "metadata": {},
   "source": [
    "## 5. Broadcasting Operations"
   ]
  },
  {
   "cell_type": "markdown",
   "id": "ad0d08cd-773a-4e44-be0f-8adc3a09a5e6",
   "metadata": {},
   "source": [
    "* Add 5 to every element of the 4×4 identity matrix."
   ]
  },
  {
   "cell_type": "code",
   "execution_count": 108,
   "id": "fa19e18d-6f8d-4e23-96c7-18ad336bce33",
   "metadata": {},
   "outputs": [
    {
     "name": "stdout",
     "output_type": "stream",
     "text": [
      "Identity Matrix after adding 5 :  \n",
      " [[6. 5. 5. 5. 5.]\n",
      " [5. 6. 5. 5. 5.]\n",
      " [5. 5. 6. 5. 5.]\n",
      " [5. 5. 5. 6. 5.]\n",
      " [5. 5. 5. 5. 6.]]\n"
     ]
    }
   ],
   "source": [
    "identityMatrix = np.eye(5)\n",
    "sumarray = identityMatrix + 5\n",
    "print(\"Identity Matrix after adding 5 :  \\n\",sumarray)"
   ]
  },
  {
   "cell_type": "markdown",
   "id": "3543b4f7-ef23-423d-ade6-830bee073876",
   "metadata": {},
   "source": [
    "* Multiply every row of a 3×3 array A by [1, 2, 3]. "
   ]
  },
  {
   "cell_type": "markdown",
   "id": "0f7ef895-f5bb-41ea-8d55-fb768f0012f9",
   "metadata": {},
   "source": [
    "multiplyArray = np.array([1, 2, 3])\n",
    "npArray = np.ones((3,3))\n",
    "\n",
    "answer = npArray * multiplyArray\n",
    "print(\"Array After multiplying with [1,2,3] is : \\n\",answer)"
   ]
  },
  {
   "cell_type": "markdown",
   "id": "234a3ff0-773f-4ef4-82b6-ff7ab33353d5",
   "metadata": {},
   "source": [
    "# 6. Element-wise Operations "
   ]
  },
  {
   "cell_type": "markdown",
   "id": "532f03c1-9b5b-4722-9771-aad4523e4b5f",
   "metadata": {},
   "source": [
    "## 7. Statistics "
   ]
  },
  {
   "cell_type": "markdown",
   "id": "8e2d9906-b697-4799-8b4a-b7ac758f0db9",
   "metadata": {},
   "source": [
    "* Create a random array of shape (5, 4) with values from a normal distribution."
   ]
  },
  {
   "cell_type": "markdown",
   "id": "1eefcbec-3735-4ed1-b9f2-92193b0f5b91",
   "metadata": {},
   "source": [
    "* Compute mean and standard deviation along axis 0 and 1. "
   ]
  },
  {
   "cell_type": "markdown",
   "id": "110dd08e-9d8e-4803-808c-0ecdbf3c4439",
   "metadata": {},
   "source": [
    "randomArray = np.random.randint(0,11,(5,4))\n",
    "\n",
    "print(\"Array with random numbers with 5*4 shape: \",randomArray,\"\\n\")\n",
    "\n",
    "print(\"Mean from Array with axis-0 is : \",randomArray.mean(axis=0))\n",
    "print(\"Mean from Array with axis-1 is : \",randomArray.mean(axis=1),\"\\n\")\n",
    "\n",
    "print(\"Standard Daviation from Array with axis-0 is : \",randomArray.std(axis=0))\n",
    "print(\"Standard Daviation from Array with axis-1 is : \",randomArray.std(axis=1))"
   ]
  },
  {
   "cell_type": "markdown",
   "id": "81619f2a-d7a8-4baf-9989-057a05d8cd35",
   "metadata": {},
   "source": [
    "## 8. Boolean Masking"
   ]
  },
  {
   "cell_type": "markdown",
   "id": "4d7e1cc9-de51-44b3-b285-3bb9a14419b6",
   "metadata": {},
   "source": [
    " * From the array in Q7, extract all elements greater than the overall mean."
   ]
  },
  {
   "cell_type": "code",
   "execution_count": 6,
   "id": "8ba1ac96-2d88-43f7-801f-b431037ea1b4",
   "metadata": {},
   "outputs": [
    {
     "name": "stdout",
     "output_type": "stream",
     "text": [
      "Array is :  [10 20 30 40 50]\n",
      "Mean is  :  30.0\n",
      "Elements greater than means are :  [40 50]\n"
     ]
    }
   ],
   "source": [
    "arr = np.array([10, 20, 30, 40, 50])\n",
    "mean = arr.mean()\n",
    "print(\"Array is : \",arr)\n",
    "print(\"Mean is  : \",mean)\n",
    "result = arr[arr > mean]\n",
    "print(\"Elements greater than means are : \",result)"
   ]
  },
  {
   "cell_type": "markdown",
   "id": "2e1e478d-2c87-441e-9989-dba4715d53eb",
   "metadata": {},
   "source": [
    "# Section 5: Linear Algebra "
   ]
  },
  {
   "cell_type": "markdown",
   "id": "b980e5ff-3537-4c43-afe6-662043f8c81e",
   "metadata": {},
   "source": [
    "## 9. Matrix Multiplication "
   ]
  },
  {
   "cell_type": "markdown",
   "id": "5ef7ca70-9fb7-4bd2-b177-4a42cd7fdb61",
   "metadata": {},
   "source": [
    "* Create two compatible matrices and perform matrix multiplication "
   ]
  },
  {
   "cell_type": "code",
   "execution_count": 17,
   "id": "4c6257da-d4b9-4cc1-8794-40540f9d722e",
   "metadata": {},
   "outputs": [
    {
     "name": "stdout",
     "output_type": "stream",
     "text": [
      "[[0 4 7]\n",
      " [7 5 5]\n",
      " [2 3 0]]\n",
      "[[7 6 2]\n",
      " [0 3 1]\n",
      " [0 1 3]]\n",
      "[[ 0 24 14]\n",
      " [ 0 15  5]\n",
      " [ 0  3  0]]\n"
     ]
    }
   ],
   "source": [
    "matrix1 = np.random.randint(0,11,(3,3))\n",
    "matrix2 = np.random.randint(0,11,(3,3)) \n",
    "print(matrix1)\n",
    "print(matrix2)"
   ]
  },
  {
   "cell_type": "code",
   "execution_count": null,
   "id": "5986a1a3-4727-45c2-9f39-9f57af490ea4",
   "metadata": {},
   "outputs": [],
   "source": []
  }
 ],
 "metadata": {
  "kernelspec": {
   "display_name": "Python [conda env:base] *",
   "language": "python",
   "name": "conda-base-py"
  },
  "language_info": {
   "codemirror_mode": {
    "name": "ipython",
    "version": 3
   },
   "file_extension": ".py",
   "mimetype": "text/x-python",
   "name": "python",
   "nbconvert_exporter": "python",
   "pygments_lexer": "ipython3",
   "version": "3.13.5"
  }
 },
 "nbformat": 4,
 "nbformat_minor": 5
}

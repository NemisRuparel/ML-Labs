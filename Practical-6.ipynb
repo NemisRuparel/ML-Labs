{
 "cells": [
  {
   "cell_type": "code",
   "execution_count": 32,
   "id": "edaa19a6-791a-4cd6-8a3f-9ab3a3f2001f",
   "metadata": {},
   "outputs": [
    {
     "name": "stdout",
     "output_type": "stream",
     "text": [
      "df:\n",
      "    one  two\n",
      "a  1.0  1.0\n",
      "b  2.0  2.0\n",
      "c  NaN  3.0\n",
      "e  NaN  4.0\n",
      "f  3.0  NaN\n"
     ]
    }
   ],
   "source": [
    "d = {\"one\": pd.Series([1.0, 2.0, 3.0], index=[\"a\", \"b\", \"f\"]),\n",
    "    \"two\": pd.Series([1.0, 2.0, 3.0, 4.0], index=[\"a\", \"b\", \"c\", \"e\"])}\n",
    "\n",
    "df = pd.DataFrame(d)\n",
    "print(\"df:\\n\", df)"
   ]
  }
 ],
 "metadata": {
  "kernelspec": {
   "display_name": "Python [conda env:base] *",
   "language": "python",
   "name": "conda-base-py"
  },
  "language_info": {
   "codemirror_mode": {
    "name": "ipython",
    "version": 3
   },
   "file_extension": ".py",
   "mimetype": "text/x-python",
   "name": "python",
   "nbconvert_exporter": "python",
   "pygments_lexer": "ipython3",
   "version": "3.13.5"
  }
 },
 "nbformat": 4,
 "nbformat_minor": 5
}

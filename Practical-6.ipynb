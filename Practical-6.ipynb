{
 "cells": [
  {
   "cell_type": "markdown",
   "id": "416156bd-cbc1-4d73-a733-5c84c3662491",
   "metadata": {},
   "source": [
    "# Practical No.6 Write a Pandas program to implement following operation"
   ]
  },
  {
   "cell_type": "code",
   "execution_count": 2,
   "id": "22e67187-ff05-4a14-9152-f5f3529a7858",
   "metadata": {},
   "outputs": [],
   "source": [
    "import numpy as np\n",
    "import pandas as pd"
   ]
  },
  {
   "cell_type": "markdown",
   "id": "d2a99c26-11bb-4c75-a517-b950dd0c4021",
   "metadata": {},
   "source": [
    "* to convert a NumPy array to a Pandas series"
   ]
  },
  {
   "cell_type": "code",
   "execution_count": 5,
   "id": "4456458c-fc5f-4251-8ea3-4d48ccf7338e",
   "metadata": {},
   "outputs": [
    {
     "name": "stdout",
     "output_type": "stream",
     "text": [
      "0    1\n",
      "1    2\n",
      "2    3\n",
      "3    4\n",
      "4    5\n",
      "dtype: int64\n"
     ]
    }
   ],
   "source": [
    "array = np.array([1,2,3,4,5])\n",
    "series = pd.Series(array)\n",
    "print(series)"
   ]
  },
  {
   "cell_type": "markdown",
   "id": "a50a7b3a-832c-4957-a5d4-482a497e50b4",
   "metadata": {},
   "source": [
    "* to convert the first column of a DataFrame as a Series"
   ]
  },
  {
   "cell_type": "code",
   "execution_count": 13,
   "id": "3b6946cf-9f7f-434e-b308-92119345e5ab",
   "metadata": {},
   "outputs": [
    {
     "name": "stdout",
     "output_type": "stream",
     "text": [
      "df:\n",
      "    numbers colors\n",
      "0        1    red\n",
      "1        2  green\n",
      "2        3   blue\n",
      "\n",
      "0    1\n",
      "1    2\n",
      "2    3\n",
      "Name: numbers, dtype: int64\n"
     ]
    }
   ],
   "source": [
    "df = pd.DataFrame({'numbers': [1, 2, 3], 'colors': ['red','green', 'blue']})\n",
    "series = pd.Series(df['numbers'])\n",
    "print(\"df:\\n\", df)\n",
    "print()\n",
    "print(series)"
   ]
  },
  {
   "cell_type": "markdown",
   "id": "cdd2bd02-2596-4ed6-a70a-77c51ffc52d6",
   "metadata": {},
   "source": [
    "* to create the mean and standard deviation of the data of a given Series"
   ]
  },
  {
   "cell_type": "code",
   "execution_count": 15,
   "id": "1843c8a2-40a3-45b3-a300-c0b319f034e8",
   "metadata": {},
   "outputs": [
    {
     "name": "stdout",
     "output_type": "stream",
     "text": [
      "Series:  0    1\n",
      "1    2\n",
      "2    3\n",
      "3    4\n",
      "4    5\n",
      "dtype: int64\n",
      "Mean from Series 3.0\n",
      "Standard Daviation from Series is:  1.5811388300841898\n"
     ]
    }
   ],
   "source": [
    "series = pd.Series([1,2,3,4,5])\n",
    "mean  = series.mean()\n",
    "std = series.std()\n",
    "print(\"Series: \",series)\n",
    "print(\"Mean from Series\",mean)\n",
    "print(\"Standard Daviation from Series is: \",std)"
   ]
  },
  {
   "cell_type": "markdown",
   "id": "737ac655-e010-4b75-bed8-8ff6d4fc3a40",
   "metadata": {},
   "source": [
    "* to sort a given Series"
   ]
  },
  {
   "cell_type": "code",
   "execution_count": 18,
   "id": "c266e012-5f5e-4bc6-bb68-6ca9b5737601",
   "metadata": {},
   "outputs": [
    {
     "name": "stdout",
     "output_type": "stream",
     "text": [
      "4     6\n",
      "0    12\n",
      "2    35\n",
      "1    44\n",
      "3    53\n",
      "dtype: int64\n"
     ]
    }
   ],
   "source": [
    "series = pd.Series([12,44,35,53,6])\n",
    "print(series.sort_values())"
   ]
  }
 ],
 "metadata": {
  "kernelspec": {
   "display_name": "Python [conda env:base] *",
   "language": "python",
   "name": "conda-base-py"
  },
  "language_info": {
   "codemirror_mode": {
    "name": "ipython",
    "version": 3
   },
   "file_extension": ".py",
   "mimetype": "text/x-python",
   "name": "python",
   "nbconvert_exporter": "python",
   "pygments_lexer": "ipython3",
   "version": "3.13.5"
  }
 },
 "nbformat": 4,
 "nbformat_minor": 5
}

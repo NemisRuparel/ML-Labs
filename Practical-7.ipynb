{
 "cells": [
  {
   "cell_type": "markdown",
   "id": "dad751c9-8892-40f7-b31e-1fd93315987d",
   "metadata": {},
   "source": [
    "# Practical No.7:  Write a Pandas program to implement following operation "
   ]
  },
  {
   "cell_type": "code",
   "execution_count": 19,
   "id": "59734464-6266-4cca-97db-d809f62c8ef5",
   "metadata": {},
   "outputs": [],
   "source": [
    "import numpy as np\n",
    "import pandas as pd\n",
    "import matplotlib.pyplot as plt"
   ]
  },
  {
   "cell_type": "markdown",
   "id": "504c8003-d71c-4923-b7b0-707c1a2debbb",
   "metadata": {},
   "source": [
    "* to create a dataframe from a dictionary and display it "
   ]
  },
  {
   "cell_type": "code",
   "execution_count": 7,
   "id": "2dcce28e-1cff-4792-9cb2-af2787ee7fbc",
   "metadata": {},
   "outputs": [
    {
     "name": "stdout",
     "output_type": "stream",
     "text": [
      "df:\n",
      "    enrollment   name\n",
      "0          11  Alice\n",
      "1          12   John\n",
      "2          13    Bob\n"
     ]
    }
   ],
   "source": [
    "df = pd.DataFrame({'enrollment': [11,12,13], 'name': ['Alice','John','Bob']})\n",
    "print(\"df:\\n\", df)"
   ]
  },
  {
   "cell_type": "markdown",
   "id": "bfcb67d5-ea0f-4b08-8faf-ce24f964efab",
   "metadata": {},
   "source": [
    "* to sort the DataFrame first by 'name' in ascending order"
   ]
  },
  {
   "cell_type": "code",
   "execution_count": 8,
   "id": "c1b09a8c-732c-4e92-9eb8-a046a8464047",
   "metadata": {},
   "outputs": [
    {
     "name": "stdout",
     "output_type": "stream",
     "text": [
      "   enrollment   name\n",
      "0          11  Alice\n",
      "2          13    Bob\n",
      "1          12   John\n"
     ]
    }
   ],
   "source": [
    "dfSorted=df.sort_values(by=['name']) \n",
    "print(dfSorted)"
   ]
  },
  {
   "cell_type": "markdown",
   "id": "720213b4-50e5-41d0-a668-cf779e9b3683",
   "metadata": {},
   "source": [
    "* to delete the one specific column from the DataFrame"
   ]
  },
  {
   "cell_type": "code",
   "execution_count": 13,
   "id": "1e250335-fd16-4ecd-852a-14460009d129",
   "metadata": {},
   "outputs": [
    {
     "name": "stdout",
     "output_type": "stream",
     "text": [
      "   enrollment   name\n",
      "0          11  Alice\n",
      "1          12   John\n",
      "2          13    Bob\n"
     ]
    }
   ],
   "source": [
    "df['cpi'] = [9.24,6.40,7.30]\n",
    "del df['cpi']\n",
    "print(df)"
   ]
  },
  {
   "cell_type": "markdown",
   "id": "040ca1ce-5daf-4487-9f49-608a8db61108",
   "metadata": {},
   "source": [
    "* to write a DataFrame to CSV file using tab separator "
   ]
  },
  {
   "cell_type": "code",
   "execution_count": 20,
   "id": "61709e1a-3068-4990-9fe1-1e112ea9bd65",
   "metadata": {},
   "outputs": [
    {
     "name": "stdout",
     "output_type": "stream",
     "text": [
      "File made with separation of tab\n"
     ]
    }
   ],
   "source": [
    "df.to_csv('D:/A Diploma/Semester 5/IML/Notebooks/pr7.4.csv', sep=\"\\t\")\n",
    "print(\"File made with separation of tab\")"
   ]
  }
 ],
 "metadata": {
  "kernelspec": {
   "display_name": "Python [conda env:base] *",
   "language": "python",
   "name": "conda-base-py"
  },
  "language_info": {
   "codemirror_mode": {
    "name": "ipython",
    "version": 3
   },
   "file_extension": ".py",
   "mimetype": "text/x-python",
   "name": "python",
   "nbconvert_exporter": "python",
   "pygments_lexer": "ipython3",
   "version": "3.13.5"
  }
 },
 "nbformat": 4,
 "nbformat_minor": 5
}

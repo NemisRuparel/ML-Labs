{
 "cells": [
  {
   "cell_type": "markdown",
   "id": "b22c416b-0547-4cc6-9914-a168314aa45f",
   "metadata": {},
   "source": [
    "## Practical No.4: Write a NumPy program to implement following operation "
   ]
  },
  {
   "cell_type": "code",
   "execution_count": 9,
   "id": "3f0d33d5-e6ed-4e85-b7fc-b9c4bd410df8",
   "metadata": {},
   "outputs": [],
   "source": [
    "import numpy as np"
   ]
  },
  {
   "cell_type": "markdown",
   "id": "25d4fb33-dc03-4db3-9b8e-9bd22efca9c0",
   "metadata": {},
   "source": [
    "* to add, subtract, multiply, divide arguments element-wise "
   ]
  },
  {
   "cell_type": "code",
   "execution_count": 14,
   "id": "bdffe69f-88e1-4d6a-80d7-cfc53aefb917",
   "metadata": {},
   "outputs": [
    {
     "name": "stdout",
     "output_type": "stream",
     "text": [
      "Addition is :  [3 4 5 6 7]\n",
      "Subtraction is :  [-1  0  1  2  3]\n",
      "Multiply is :  [ 2  4  6  8 10]\n",
      "Division is :  [0.5 1.  1.5 2.  2.5]\n"
     ]
    }
   ],
   "source": [
    "numArray = np.array([1,2,3,4,5])\n",
    "Add = np.add(numArray,2)\n",
    "Substract = np.subtract(numArray,2)\n",
    "Multiply = np.multiply(numArray,2)\n",
    "Divide = np.divide(numArray,2)\n",
    "\n",
    "print(\"Addition is : \",Add)\n",
    "print(\"Subtraction is : \",Substract)\n",
    "print(\"Multiply is : \",Multiply)\n",
    "print(\"Division is : \",Divide)"
   ]
  },
  {
   "cell_type": "markdown",
   "id": "14b86a65-4c18-4cb6-92f2-88174ae31ef7",
   "metadata": {},
   "source": [
    "* to round elements of the array to the nearest integer"
   ]
  },
  {
   "cell_type": "code",
   "execution_count": 23,
   "id": "b4024f93-4fff-413b-985c-a1566edc815a",
   "metadata": {},
   "outputs": [
    {
     "name": "stdout",
     "output_type": "stream",
     "text": [
      "Array before rounded :  [1.1 2.2 3.3 4.4 5.5]\n",
      "Array after rounded :  [1. 2. 3. 4. 6.]\n"
     ]
    }
   ],
   "source": [
    "floatArray = np.array([1.1,2.2,3.3,4.4,5.5])\n",
    "roundedArray = np.round(floatArray)\n",
    "print(\"Array before rounded : \",floatArray)\n",
    "print(\"Array after rounded : \",roundedArray)"
   ]
  },
  {
   "cell_type": "markdown",
   "id": "ec001439-ff9c-4f84-9611-9bef50cc58f5",
   "metadata": {},
   "source": [
    " * to calculate mean across dimension, in a 2D numpy array "
   ]
  },
  {
   "cell_type": "code",
   "execution_count": 27,
   "id": "b74dafb0-9441-4172-a8cd-93852ca4c39e",
   "metadata": {},
   "outputs": [
    {
     "name": "stdout",
     "output_type": "stream",
     "text": [
      "Num Array : \n",
      " [[1 2 3]\n",
      " [4 5 6]]\n",
      "Mean from array is :  3.5\n"
     ]
    }
   ],
   "source": [
    "numArray = np.array([[1,2,3],[4,5,6]])\n",
    "meanNum = np.mean(numArray)\n",
    "print(\"Num Array : \\n\", numArray)\n",
    "print(\"Mean from array is : \",meanNum)"
   ]
  },
  {
   "cell_type": "markdown",
   "id": "c0fab03c-2474-493d-a70b-16fa27b39c11",
   "metadata": {},
   "source": [
    "* to calculate the difference between neighboring elements, element-wise of a \n",
    "given array "
   ]
  },
  {
   "cell_type": "code",
   "execution_count": 30,
   "id": "27edeccb-be3b-400d-be02-9e251fd4d3bd",
   "metadata": {},
   "outputs": [
    {
     "name": "stdout",
     "output_type": "stream",
     "text": [
      "Main Array is :  [1 2 3 4 5]\n",
      "Difference b/w neighbouring elements is :  [1 1 1 1]\n"
     ]
    }
   ],
   "source": [
    "numArray = np.array([1,2,3,4,5])\n",
    "diffArray = np.diff(numArray)\n",
    "print(\"Main Array is : \",numArray)\n",
    "print(\"Difference b/w neighbouring elements is : \",diffArray)"
   ]
  },
  {
   "cell_type": "code",
   "execution_count": null,
   "id": "691b6b64-f20f-43f3-a1ce-0a7c27045107",
   "metadata": {},
   "outputs": [],
   "source": []
  }
 ],
 "metadata": {
  "kernelspec": {
   "display_name": "Python [conda env:base] *",
   "language": "python",
   "name": "conda-base-py"
  },
  "language_info": {
   "codemirror_mode": {
    "name": "ipython",
    "version": 3
   },
   "file_extension": ".py",
   "mimetype": "text/x-python",
   "name": "python",
   "nbconvert_exporter": "python",
   "pygments_lexer": "ipython3",
   "version": "3.13.5"
  }
 },
 "nbformat": 4,
 "nbformat_minor": 5
}

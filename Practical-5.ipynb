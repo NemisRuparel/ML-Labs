{
 "cells": [
  {
   "cell_type": "markdown",
   "id": "2f469a4d-5c8e-41ed-a258-30a912841eb6",
   "metadata": {},
   "source": [
    "# Practical No.5: Write a NumPy program to implement following operation"
   ]
  },
  {
   "cell_type": "code",
   "execution_count": 2,
   "id": "3c70b9ab-1b2d-4cb8-a163-3bbcb2a2b1c3",
   "metadata": {},
   "outputs": [],
   "source": [
    "import numpy as np"
   ]
  },
  {
   "cell_type": "markdown",
   "id": "269b2451-4d07-402f-8912-303011c1c2c5",
   "metadata": {},
   "source": [
    "* to find the maximum and minimum value of a given flattened array"
   ]
  },
  {
   "cell_type": "code",
   "execution_count": 4,
   "id": "10397f36-380d-4483-8026-71c05d0dc806",
   "metadata": {},
   "outputs": [
    {
     "name": "stdout",
     "output_type": "stream",
     "text": [
      "Flattened Array is :  [1 2 3 4 5]\n",
      "Maximum value from flattened array is :  5\n",
      "Minimum value from flattened array is :  1\n"
     ]
    }
   ],
   "source": [
    "flattenedArray = np.array([1,2,3,4,5])\n",
    "maxValue = np.max(flattenedArray)\n",
    "minValue = np.min(flattenedArray)\n",
    "print(\"Flattened Array is : \",flattenedArray)\n",
    "print(\"Maximum value from flattened array is : \",maxValue)\n",
    "print(\"Minimum value from flattened array is : \",minValue)"
   ]
  },
  {
   "cell_type": "markdown",
   "id": "add914d4-c4b7-4937-8120-af9f084ea6cf",
   "metadata": {},
   "source": [
    "* to compute the mean, standard deviation, and variance of a given array along the \n",
    "second axis"
   ]
  },
  {
   "cell_type": "code",
   "execution_count": 11,
   "id": "6053dce3-a901-4a21-a3e4-be5b85a45a8f",
   "metadata": {},
   "outputs": [
    {
     "name": "stdout",
     "output_type": "stream",
     "text": [
      "Array : \n",
      " [[1 2 3]\n",
      " [4 5 6]]\n",
      "Mean: [2. 5.]\n",
      "Standard Deviation: [0.81649658 0.81649658]\n",
      "Variance: [0.66666667 0.66666667]\n"
     ]
    }
   ],
   "source": [
    "arr = np.array([[1, 2, 3], [4, 5, 6]])\n",
    "\n",
    "mean = np.mean(arr, axis=1)\n",
    "standardDaviation = np.std(arr, axis=1)\n",
    "variance = np.var(arr, axis=1)\n",
    "\n",
    "print(\"Array : \\n\",arr)\n",
    "print(\"Mean:\", mean)\n",
    "print(\"Standard Deviation:\", standardDaviation)\n",
    "print(\"Variance:\", variance)"
   ]
  }
 ],
 "metadata": {
  "kernelspec": {
   "display_name": "Python [conda env:base] *",
   "language": "python",
   "name": "conda-base-py"
  },
  "language_info": {
   "codemirror_mode": {
    "name": "ipython",
    "version": 3
   },
   "file_extension": ".py",
   "mimetype": "text/x-python",
   "name": "python",
   "nbconvert_exporter": "python",
   "pygments_lexer": "ipython3",
   "version": "3.13.5"
  }
 },
 "nbformat": 4,
 "nbformat_minor": 5
}

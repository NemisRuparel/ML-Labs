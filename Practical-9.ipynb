{
 "cells": [
  {
   "cell_type": "markdown",
   "id": "30f62604-f528-431b-8298-d5e53578b903",
   "metadata": {},
   "source": [
    "# Write a Pandas program to create a plot of Open, High, Low, Close, Adjusted Closing prices and Volume of given company between two specific dates."
   ]
  },
  {
   "cell_type": "code",
   "execution_count": null,
   "id": "2bc8d416-cd9f-49a1-9d50-b533a37453a8",
   "metadata": {},
   "outputs": [],
   "source": []
  }
 ],
 "metadata": {
  "kernelspec": {
   "display_name": "Python [conda env:base] *",
   "language": "python",
   "name": "conda-base-py"
  },
  "language_info": {
   "codemirror_mode": {
    "name": "ipython",
    "version": 3
   },
   "file_extension": ".py",
   "mimetype": "text/x-python",
   "name": "python",
   "nbconvert_exporter": "python",
   "pygments_lexer": "ipython3",
   "version": "3.13.5"
  }
 },
 "nbformat": 4,
 "nbformat_minor": 5
}

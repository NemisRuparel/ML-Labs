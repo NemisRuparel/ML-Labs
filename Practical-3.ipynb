{
 "cells": [
  {
   "cell_type": "markdown",
   "id": "a34d1ca6-8289-42d9-a57a-f1fb860d9648",
   "metadata": {},
   "source": [
    "## Practical No.3: Write a NumPy program to implement following operation "
   ]
  },
  {
   "cell_type": "code",
   "execution_count": 1,
   "id": "50f65480-12cb-4328-aee6-35a9c832aaa8",
   "metadata": {},
   "outputs": [],
   "source": [
    "import numpy as np"
   ]
  },
  {
   "cell_type": "markdown",
   "id": "660c0afe-5cbf-4071-8b0e-004fbb34dda0",
   "metadata": {},
   "source": [
    "* to split an array of 14 elements into 3 arrays, each with 2, 4, and 8 elements in the \n",
    "original order"
   ]
  },
  {
   "cell_type": "code",
   "execution_count": 14,
   "id": "bcfaec5d-9ea5-4825-9863-fa3cf62af059",
   "metadata": {},
   "outputs": [
    {
     "name": "stdout",
     "output_type": "stream",
     "text": [
      "Main Array :  [ 0  1  2  3  4  5  6  7  8  9 10 11 12 13]\n",
      "Array with 2 elements :  [0 1]\n",
      "Array with 4 elements :  [2 3 4 5]\n",
      "Array with 4 elements :  [ 6  7  8  9 10 11 12 13]\n"
     ]
    }
   ],
   "source": [
    "mainArray = np.arange(0,14)\n",
    "split2 = mainArray[:2]\n",
    "split4 = mainArray[2:6]\n",
    "split8 = mainArray[6:]\n",
    "print(\"Main Array : \",mainArray)\n",
    "print(\"Array with 2 elements : \",split2)\n",
    "print(\"Array with 4 elements : \",split4)\n",
    "print(\"Array with 4 elements : \",split8)\n"
   ]
  },
  {
   "cell_type": "markdown",
   "id": "817680ad-4968-481e-8a5c-486e685f2926",
   "metadata": {},
   "source": [
    "* to stack arrays horizontally (column wise) "
   ]
  },
  {
   "cell_type": "code",
   "execution_count": 22,
   "id": "56b039d5-9475-446a-aa2f-b541d618d91c",
   "metadata": {},
   "outputs": [
    {
     "name": "stdout",
     "output_type": "stream",
     "text": [
      "First Array : \n",
      " [[1 2 3]\n",
      " [3 2 1]]\n",
      "Second Array : \n",
      " [[4 5 6]\n",
      " [6 5 4]]\n",
      "Both Arrays after stacked horizontally (column wise) : \n",
      " [[1 2 3 4 5 6]\n",
      " [3 2 1 6 5 4]]\n"
     ]
    }
   ],
   "source": [
    "firstArray = np.array([[1,2,3],[3,2,1]])\n",
    "secondArray = np.array([[4,5,6],[6,5,4]])\n",
    "stackedArray = np.hstack([firstArray,secondArray])\n",
    "print(\"First Array : \\n\",firstArray)\n",
    "print(\"Second Array : \\n\",secondArray)\n",
    "print(\"Both Arrays after stacked horizontally (column wise) : \\n\",stackedArray)"
   ]
  }
 ],
 "metadata": {
  "kernelspec": {
   "display_name": "Python [conda env:base] *",
   "language": "python",
   "name": "conda-base-py"
  },
  "language_info": {
   "codemirror_mode": {
    "name": "ipython",
    "version": 3
   },
   "file_extension": ".py",
   "mimetype": "text/x-python",
   "name": "python",
   "nbconvert_exporter": "python",
   "pygments_lexer": "ipython3",
   "version": "3.13.5"
  }
 },
 "nbformat": 4,
 "nbformat_minor": 5
}
